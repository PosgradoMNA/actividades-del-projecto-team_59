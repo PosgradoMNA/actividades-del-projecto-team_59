{
  "nbformat": 4,
  "nbformat_minor": 0,
  "metadata": {
    "colab": {
      "provenance": [],
      "collapsed_sections": [],
      "authorship_tag": "ABX9TyPOS+xoEOxGA1eo7/m7GZ0j",
      "include_colab_link": true
    },
    "kernelspec": {
      "name": "python3",
      "display_name": "Python 3"
    },
    "language_info": {
      "name": "python"
    }
  },
  "cells": [
    {
      "cell_type": "markdown",
      "metadata": {
        "id": "view-in-github",
        "colab_type": "text"
      },
      "source": [
        "<a href=\"https://colab.research.google.com/github/PosgradoMNA/actividades-del-projecto-team_59/blob/main/Proyecto_final_Avance_2.ipynb\" target=\"_parent\"><img src=\"https://colab.research.google.com/assets/colab-badge.svg\" alt=\"Open In Colab\"/></a>"
      ]
    },
    {
      "cell_type": "code",
      "source": [
        "# Materia: Ciencia y analítica de datos (Gpo 10)\n",
        "# Profesor: Jobish Vallikavungal Devassia \n",
        "\n",
        "# A01104776 - Andrea Margarita Osorio González\n",
        "# A01685424 - Fernando Alfredo Rojas Estrella\n",
        "\n",
        "# Entrega: Proyecto final - Avance 2"
      ],
      "metadata": {
        "id": "OEBYodb7ZaQz"
      },
      "execution_count": null,
      "outputs": []
    },
    {
      "cell_type": "code",
      "execution_count": null,
      "metadata": {
        "id": "3RTm08TMNAb8"
      },
      "outputs": [],
      "source": [
        "# MIRO: https://miro.com/welcomeonboard/Ym0wOEpub1RQRm90Ylg0cXlMdkY3aU9DaG9BV29VdGdxb1FMazJXWTBNT3NNRDlSSUdzQkJUQ0RNWHh3Z3NQU3wzMDc0NDU3MzU4MDQ1NzgwNDEyfDI=?share_link_id=332611736074\n",
        "\n",
        "\n",
        "\n",
        "1. Identificar una metodología que vas a usar durante la realización del proyecto\n",
        "2. Escribe los pasos estándares en un máximo de 3 oraciones, por cada fase\n",
        "3. Documenta el proceso en jupyter notebook. \n",
        "\n",
        "Proceso CRISP-DM\n",
        "1.\tEntendimiento del negocio – ¿Qué necesita el negocio?\n",
        "2.\tComprensión de datos: ¿qué datos tenemos/necesitamos? ¿Está limpio?\n",
        "3.\tPreparación de datos: ¿cómo organizamos los datos para el modelado?\n",
        "4.\tModelado – ¿Qué técnicas de modelado debemos aplicar?\n",
        "5.\tEvaluación: ¿Qué modelo cumple mejor con los objetivos comerciales?\n",
        "6.\tImplementación: ¿cómo acceden las partes interesadas a los resultados?\n",
        "\n",
        "\n",
        "\n",
        "Proceso Fundación Carlos Slim\n",
        "1 Planteamiento de objetivos \n",
        "2 Inmersión a los datos y reglas opertativas y de negocio \n",
        "3 Curaduría (valores plausibles, coherencia, consistencia)\n",
        "4 Manejo de datos faltantes \n",
        "5 Modelado (diseño, entrenamiento, selección de mejor modelo) \n",
        "6 Revisión de resultados y traducción como respuesta al objetivo y como accionables\n",
        "7 Implementación\n",
        "\n",
        "\n",
        "\n"
      ]
    },
    {
      "cell_type": "code",
      "source": [
        "# "
      ],
      "metadata": {
        "id": "7Ey7s-TXY2tL"
      },
      "execution_count": null,
      "outputs": []
    }
  ]
}