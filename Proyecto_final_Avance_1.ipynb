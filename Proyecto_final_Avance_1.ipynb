{
  "nbformat": 4,
  "nbformat_minor": 0,
  "metadata": {
    "colab": {
      "provenance": [],
      "collapsed_sections": [],
      "authorship_tag": "ABX9TyPJ1hExU1b3twI9InoD04tu",
      "include_colab_link": true
    },
    "kernelspec": {
      "name": "python3",
      "display_name": "Python 3"
    },
    "language_info": {
      "name": "python"
    }
  },
  "cells": [
    {
      "cell_type": "markdown",
      "metadata": {
        "id": "view-in-github",
        "colab_type": "text"
      },
      "source": [
        "<a href=\"https://colab.research.google.com/github/PosgradoMNA/actividades-del-projecto-team_59/blob/main/Proyecto_final_Avance_1.ipynb\" target=\"_parent\"><img src=\"https://colab.research.google.com/assets/colab-badge.svg\" alt=\"Open In Colab\"/></a>"
      ]
    },
    {
      "cell_type": "code",
      "source": [
        "# Materia: Ciencia y analítica de datos (Gpo 10)\n",
        "# Profesor: Jobish Vallikavungal Devassia \n",
        "\n",
        "# A01104776 - Andrea Margarita Osorio Gonzalez\n",
        "# A01685424 - Fernando Alfredo Rojas Estrella\n",
        "\n",
        "# Entrega: Proyecto final - Avance 1"
      ],
      "metadata": {
        "id": "OEBYodb7ZaQz"
      },
      "execution_count": null,
      "outputs": []
    },
    {
      "cell_type": "code",
      "execution_count": null,
      "metadata": {
        "id": "3RTm08TMNAb8"
      },
      "outputs": [],
      "source": [
        "\n",
        "# El nombre que caracteriza el conjunto de datos.\n",
        "# DreporteMIDO - Reporte de información sobre enfermedades crónicas detectadas\n",
        "\n",
        "\n",
        "\n",
        "# La organización que lo generó.\n",
        "# Fundación Carlos Slim - 2020 - 2021\n",
        "\n",
        "\n",
        "\n",
        "# Incluya un enlace de Internet donde se puedan descargar el base de datos en línea\n",
        "# La Bd no está disponible de forma abioerta en Internet, sin embargo se puede encontrar en la siguiente liga:\n",
        "# https://1drv.ms/u/s!AkKKChdfStwZia9witm3lKG6GXsrUA?e=1ka04w \n",
        "\n",
        "\n",
        "\n",
        "# Describe el conjunto de datos. ¿Qué datos contiene?\n",
        "# La información que contiene la BD es referente a datos obtenidos durante la valoración y busqueda de enfermedades crónicas como obesisda\n",
        "# diabetes, hipertensión que se relacionan con factores familiares de enfermedades crónicas. La BD contiene información del perfil crónico\n",
        "# que es obtenido a través de la metodología MIDO (Medición Integral para la Detección Oportuna).\n",
        "# COLUMN_NAME\t            DATA_TYPE\n",
        "# cveInstitucion\t        varchar\n",
        "# Institucion\t            varchar\n",
        "# cveEntidad\t            int\n",
        "# Entidad\t                varchar\n",
        "# cveJurisdiccion\t        int\n",
        "# Jurisdiccion\t          varchar\n",
        "# cveMunicipio\t          int\n",
        "# Municipio\t              varchar\n",
        "# cveLocalidad\t          int\n",
        "# Localidad\t              varchar\n",
        "# clues\t                  char\n",
        "# Unidad de Salud\t        varchar\n",
        "# EntidadNac\t            varchar\n",
        "# edad\t                  tinyint\n",
        "# sexo\t                  varchar\n",
        "# cvepaciente\t            varchar\n",
        "# talla\t                  varchar\n",
        "# fechaMido\t              smalldatetime \n",
        "# fechaTiempo\t            varchar\n",
        "# cvePerfil\t              varchar\n",
        "# perfil\t                varchar\n",
        "# fechaProxValoracion     smalldatetime\n",
        "# fecCompleto\t            datetime\n",
        "# cveExperto\t            varchar\n",
        "\n",
        "\n",
        "# ¿Cuáles son algunas de las preguntas de investigación que podría responder con estos datos? Enumere al menos OCHO (no responda las preguntas).\n",
        "# 1.¿Proporción de personas que no se sabían hipertensas y fueron detectadas? \n",
        "# 2.¿Proporción de personas que no se sabían diabeticas y fueron detectadas?\n",
        "# 3.¿Qué rango de edad presenta mayor incidencia de diabetes?\n",
        "# 4.¿Qué rango de edad presenta mayor incidencia de hipertensión?\n",
        "# 5.¿Existe alguna diferencia en la tasa de prevalencia de enfermedades crónicas dependiendo la empresa en la que laboran los paciente?\n",
        "# 6.¿Existe diferencia en la incidencia de enfermedades crónicas por sexo?\n",
        "# 7.¿Estado de la republica mexicana en dónde se presentan mayor cantidad de casos de enfermos crónicos?\n",
        "# 8.¿Existe relación entre padecimientos previos en familiares que desencadenen en enfermedades crónicas?\n",
        "\n",
        "\n",
        "# ¿Qué actor (empresa, sector de la sociedad, organismo descentralizado, gobierno, etc.) estaría interesado en las preguntas mencionadas que identificó?\n",
        "# 1. El sector salud de México estaría interesado en analísar está información ya que es un tema de interés de la salud pública.\n",
        "# 2. El IMSS como institución encargada de este sector laboral, se vería beneficiada al tener información de prevalencia e incidencia de enfermedades \n",
        "#    crónicas en sector de la sociedad ya que ellos son los encargados de atender su afecciones de salud.\n",
        "# 3. Los responsables de RH de las empresas en las que laboran estos pacientes.\n",
        "\n"
      ]
    },
    {
      "cell_type": "code",
      "source": [
        "# Conjunto de datos:\n",
        "#\n",
        "# Es del orden es de 275,403 filas\n",
        "# Está en formato XLSX "
      ],
      "metadata": {
        "id": "7Ey7s-TXY2tL"
      },
      "execution_count": null,
      "outputs": []
    }
  ]
}